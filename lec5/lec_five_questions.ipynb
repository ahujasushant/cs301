{
  "cells": [
    {
      "cell_type": "code",
      "execution_count": 81,
      "metadata": {
        "collapsed": true,
        "pycharm": {
          "is_executing": false
        }
      },
      "outputs": [
        {
          "name": "stdout",
          "text": [
            "##########\n##########\n##########\n##########\n##########\n"
          ],
          "output_type": "stream"
        }
      ],
      "source": "a \u003d \u0027#\u0027\nwidth \u003d 10\nfor i in range(5):\n    print(a * width)\n"
    },
    {
      "cell_type": "code",
      "execution_count": 85,
      "outputs": [
        {
          "name": "stdout",
          "text": [
            "# # # # # \n # # # # #\n# # # # # \n # # # # #\n# # # # # \n # # # # #\n"
          ],
          "output_type": "stream"
        }
      ],
      "source": "a \u003d \u0027#\u0027\nheight \u003d 6\nwidth \u003d 5\nfor i in range(3):\n    print(((a + \u0027 \u0027) * width + \"\\n\" ) + ((\u0027 \u0027 + a) * width))\n",
      "metadata": {
        "pycharm": {
          "metadata": false,
          "name": "#%%\n",
          "is_executing": false
        }
      }
    },
    {
      "cell_type": "code",
      "execution_count": 67,
      "outputs": [
        {
          "name": "stdout",
          "text": [
            "##########\n#        #\n#        #\n#        #\n#        #\n#        #\n##########\n"
          ],
          "output_type": "stream"
        }
      ],
      "source": "a \u003d \u0027#\u0027\nheight \u003d 6\nwidth \u003d 10\nprint(a * width )\nfor i in range(5): \n    print((a + (\u0027 \u0027 * (width - 2)) + a ))  \nprint(a * width)\n\n",
      "metadata": {
        "pycharm": {
          "metadata": false,
          "name": "#%%\n",
          "is_executing": false
        }
      }
    },
    {
      "cell_type": "code",
      "execution_count": 87,
      "outputs": [
        {
          "name": "stdout",
          "text": [
            "##########\n#\n##########\n         #\n##########\n#\n##########\n         #\n##########\n#\n##########\n         #\n"
          ],
          "output_type": "stream"
        }
      ],
      "source": "a \u003d \u0027#\u0027\nheight \u003d 6\nwidth \u003d 10\nfor i in range(3):\n    print( a * width + \u0027\\n\u0027 + a + \u0027\\n\u0027 + (a * width) + \u0027\\n\u0027 + (\u0027 \u0027)* (width-1) + a)\n",
      "metadata": {
        "pycharm": {
          "metadata": false,
          "name": "#%%\n",
          "is_executing": false
        }
      }
    },
    {
      "cell_type": "code",
      "execution_count": null,
      "outputs": [],
      "source": "\n",
      "metadata": {
        "pycharm": {
          "metadata": false,
          "name": "#%%\n"
        }
      }
    }
  ],
  "metadata": {
    "language_info": {
      "codemirror_mode": {
        "name": "ipython",
        "version": 2
      },
      "file_extension": ".py",
      "mimetype": "text/x-python",
      "name": "python",
      "nbconvert_exporter": "python",
      "pygments_lexer": "ipython2",
      "version": "2.7.6"
    },
    "kernelspec": {
      "name": "python3",
      "language": "python",
      "display_name": "Python 3"
    }
  },
  "nbformat": 4,
  "nbformat_minor": 0
}