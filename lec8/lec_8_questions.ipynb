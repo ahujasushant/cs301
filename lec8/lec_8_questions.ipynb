{
  "cells": [
    {
      "cell_type": "code",
      "execution_count": 1,
      "metadata": {
        "collapsed": true,
        "pycharm": {
          "is_executing": false
        }
      },
      "outputs": [
        {
          "traceback": [
            "\u001b[0;31m---------------------------------------------------------------------------\u001b[0m",
            "\u001b[0;31mNameError\u001b[0m                                 Traceback (most recent call last)",
            "\u001b[0;32m\u003cipython-input-1-257f47b5d662\u003e\u001b[0m in \u001b[0;36m\u003cmodule\u003e\u001b[0;34m\u001b[0m\n\u001b[1;32m      3\u001b[0m \u001b[0;34m\u001b[0m\u001b[0m\n\u001b[1;32m      4\u001b[0m \u001b[0mset_x\u001b[0m\u001b[0;34m(\u001b[0m\u001b[0;34m)\u001b[0m\u001b[0;34m\u001b[0m\u001b[0;34m\u001b[0m\u001b[0m\n\u001b[0;32m----\u003e 5\u001b[0;31m \u001b[0mprint\u001b[0m\u001b[0;34m(\u001b[0m\u001b[0mx\u001b[0m\u001b[0;34m)\u001b[0m\u001b[0;34m\u001b[0m\u001b[0;34m\u001b[0m\u001b[0m\n\u001b[0m\u001b[1;32m      6\u001b[0m \u001b[0;34m\u001b[0m\u001b[0m\n",
            "\u001b[0;31mNameError\u001b[0m: name \u0027x\u0027 is not defined"
          ],
          "ename": "NameError",
          "evalue": "name \u0027x\u0027 is not defined",
          "output_type": "error"
        }
      ],
      "source": "def set_x():\n    x \u003d 100\n    \nset_x()\nprint(x)\n"
    },
    {
      "cell_type": "code",
      "execution_count": null,
      "outputs": [],
      "source": "def count():\n    x \u003d 1\n    x +\u003d 1\n    print(x)\ncount()\ncount()\ncount()",
      "metadata": {
        "pycharm": {
          "metadata": false,
          "name": "#%%\n",
          "is_executing": true
        }
      }
    },
    {
      "cell_type": "code",
      "execution_count": null,
      "outputs": [],
      "source": "\ndef display_x():\n    print(x)\ndef main():\n    x \u003d 100\n    display_x()\nmain()",
      "metadata": {
        "pycharm": {
          "metadata": false,
          "name": "#%%\n",
          "is_executing": true
        }
      }
    },
    {
      "cell_type": "code",
      "execution_count": null,
      "outputs": [],
      "source": "msg \u003d \u0027hello\u0027 # global, outside any func\ndef greeting():\n    print(msg)\nprint(\u0027before: \u0027 + msg)\ngreeting()\nprint(\u0027after: \u0027 + msg)",
      "metadata": {
        "pycharm": {
          "metadata": false,
          "name": "#%%\n",
          "is_executing": true
        }
      }
    },
    {
      "cell_type": "code",
      "execution_count": null,
      "outputs": [],
      "source": "msg \u003d \u0027hello\u0027\ndef greeting():\n    msg \u003d \u0027welcome!\u0027\n    print(\u0027greeting: \u0027 + msg)\nprint(\u0027before: \u0027 + msg)\ngreeting()\nprint(\u0027after: \u0027 + msg)",
      "metadata": {
        "pycharm": {
          "metadata": false,
          "name": "#%%\n",
          "is_executing": true
        }
      }
    },
    {
      "cell_type": "code",
      "execution_count": null,
      "outputs": [],
      "source": "msg \u003d \u0027hello\u0027\ndef greeting():\n    print(\u0027greeting: \u0027 + msg)\n    msg \u003d \u0027welcome!\u0027\nprint(\u0027before: \u0027 + msg)\ngreeting()\nprint(\u0027after: \u0027 + msg)",
      "metadata": {
        "pycharm": {
          "metadata": false,
          "name": "#%%\n",
          "is_executing": true
        }
      }
    },
    {
      "cell_type": "code",
      "execution_count": null,
      "outputs": [],
      "source": "msg \u003d \u0027hello\u0027\ndef greeting():\n    global msg\n    print(\u0027greeting: \u0027 + msg)\n    msg \u003d \u0027welcome!\u0027\nprint(\u0027before: \u0027 + msg)\ngreeting()\nprint(\u0027after: \u0027 + msg)\n",
      "metadata": {
        "pycharm": {
          "metadata": false,
          "name": "#%%\n",
          "is_executing": true
        }
      }
    },
    {
      "cell_type": "code",
      "execution_count": 4,
      "outputs": [
        {
          "name": "stdout",
          "text": [
            "before: A\ninside: B\nafter: A\n"
          ],
          "output_type": "stream"
        }
      ],
      "source": "def f(x):\n    x \u003d \u0027B\u0027\n    print(\u0027inside: \u0027 + x)\nval \u003d \u0027A\u0027\nprint(\u0027before: \u0027 + val)\nf(val)\nprint(\u0027after: \u0027 + val)",
      "metadata": {
        "pycharm": {
          "metadata": false,
          "name": "#%%\n",
          "is_executing": false
        }
      }
    },
    {
      "cell_type": "code",
      "execution_count": 3,
      "outputs": [
        {
          "name": "stdout",
          "text": [
            "before: A\ninside: B\nafter: A\n"
          ],
          "output_type": "stream"
        }
      ],
      "source": "x \u003d \u0027A\u0027\ndef f(x):\n    x \u003d \u0027B\u0027\n    print(\u0027inside: \u0027 + x)\nprint(\u0027before: \u0027 + x)\nf(x)\nprint(\u0027after: \u0027 + x)",
      "metadata": {
        "pycharm": {
          "metadata": false,
          "name": "#%%\n",
          "is_executing": false
        }
      }
    },
    {
      "cell_type": "code",
      "execution_count": null,
      "outputs": [],
      "source": "\n",
      "metadata": {
        "pycharm": {
          "metadata": false,
          "name": "#%%\n"
        }
      }
    }
  ],
  "metadata": {
    "language_info": {
      "codemirror_mode": {
        "name": "ipython",
        "version": 2
      },
      "file_extension": ".py",
      "mimetype": "text/x-python",
      "name": "python",
      "nbconvert_exporter": "python",
      "pygments_lexer": "ipython2",
      "version": "2.7.6"
    },
    "kernelspec": {
      "name": "python3",
      "language": "python",
      "display_name": "Python 3"
    }
  },
  "nbformat": 4,
  "nbformat_minor": 0
}