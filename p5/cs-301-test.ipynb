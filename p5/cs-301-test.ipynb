{
 "cells": [
  {
   "cell_type": "code",
   "execution_count": 1,
   "metadata": {
    "collapsed": true,
    "pycharm": {
     "is_executing": false
    }
   },
   "outputs": [
    {
     "data": {
      "text/plain": [
       "111"
      ]
     },
     "execution_count": 1,
     "metadata": {},
     "output_type": "execute_result"
    }
   ],
   "source": [
    "import project\n",
    "\n",
    "#q1\n",
    "project.count()\n"
   ]
  },
  {
   "cell_type": "code",
   "execution_count": 2,
   "metadata": {
    "pycharm": {
     "is_executing": false,
     "metadata": false,
     "name": "#%%\n"
    }
   },
   "outputs": [
    {
     "data": {
      "text/plain": [
       "'Baker'"
      ]
     },
     "execution_count": 2,
     "metadata": {},
     "output_type": "execute_result"
    }
   ],
   "source": [
    "#q2\n",
    "project.get_name(0)\n"
   ]
  },
  {
   "cell_type": "code",
   "execution_count": 3,
   "metadata": {
    "pycharm": {
     "is_executing": false,
     "metadata": false,
     "name": "#%%\n"
    }
   },
   "outputs": [
    {
     "data": {
      "text/plain": [
       "1"
      ]
     },
     "execution_count": 3,
     "metadata": {},
     "output_type": "execute_result"
    }
   ],
   "source": [
    "#q3\n",
    "project.get_deaths(110)\n"
   ]
  },
  {
   "cell_type": "code",
   "execution_count": 4,
   "metadata": {
    "pycharm": {
     "is_executing": false,
     "metadata": false,
     "name": "#%%\n"
    }
   },
   "outputs": [
    {
     "data": {
      "text/plain": [
       "1430000000.0"
      ]
     },
     "execution_count": 4,
     "metadata": {},
     "output_type": "execute_result"
    }
   ],
   "source": [
    "#q4\n",
    "def convertion_to_dollars(amount):\n",
    "    format_amount = float(amount[:-1])\n",
    "    if amount[-1] == 'K':\n",
    "        return format_amount * 1000\n",
    "    elif amount[-1] == 'M':\n",
    "        return format_amount * 1000000\n",
    "    elif amount[-1] == 'B':\n",
    "        return format_amount * 1000000000\n",
    "    else:\n",
    "        return amount\n",
    "    \n",
    "convertion_to_dollars(project.get_damage(1))\n"
   ]
  },
  {
   "cell_type": "code",
   "execution_count": 5,
   "metadata": {
    "pycharm": {
     "is_executing": false,
     "metadata": false,
     "name": "#%%\n"
    }
   },
   "outputs": [
    {
     "data": {
      "text/plain": [
       "True"
      ]
     },
     "execution_count": 5,
     "metadata": {},
     "output_type": "execute_result"
    }
   ],
   "source": [
    "#q5\n",
    "def check_flossy_project():\n",
    "    for index in range(project.count()):\n",
    "        if project.get_name(index) == 'Flossy': \n",
    "            return True\n",
    "    \n",
    "check_flossy_project()        \n"
   ]
  },
  {
   "cell_type": "code",
   "execution_count": 6,
   "metadata": {
    "pycharm": {
     "is_executing": false,
     "metadata": false,
     "name": "#%%\n"
    }
   },
   "outputs": [
    {
     "data": {
      "text/plain": [
       "2"
      ]
     },
     "execution_count": 6,
     "metadata": {},
     "output_type": "execute_result"
    }
   ],
   "source": [
    "#q6\n",
    "def check_floyd_project():\n",
    "    no_of_floyd_projects = 0\n",
    "    for index in range(project.count()):\n",
    "        if str.lower(project.get_name(index)) == 'floyd':\n",
    "            no_of_floyd_projects += 1\n",
    "    return no_of_floyd_projects\n",
    "            \n",
    "        \n",
    "check_floyd_project()"
   ]
  },
  {
   "cell_type": "code",
   "execution_count": 7,
   "metadata": {
    "pycharm": {
     "is_executing": false,
     "metadata": false,
     "name": "#%%\n"
    }
   },
   "outputs": [
    {
     "data": {
      "text/plain": [
       "13129"
      ]
     },
     "execution_count": 7,
     "metadata": {},
     "output_type": "execute_result"
    }
   ],
   "source": [
    "#q7\n",
    "def total_deaths():\n",
    "    total_no_of_deaths = 0\n",
    "    for index in range(project.count()):\n",
    "        deaths_for_each_project = project.get_deaths(index)\n",
    "        total_no_of_deaths += deaths_for_each_project\n",
    "    return total_no_of_deaths\n",
    "\n",
    "total_deaths()"
   ]
  },
  {
   "cell_type": "code",
   "execution_count": 8,
   "metadata": {
    "pycharm": {
     "is_executing": false,
     "metadata": false,
     "name": "#%%\n"
    }
   },
   "outputs": [
    {
     "data": {
      "text/plain": [
       "792890014998.0"
      ]
     },
     "execution_count": 8,
     "metadata": {},
     "output_type": "execute_result"
    }
   ],
   "source": [
    "#q8\n",
    "def total_damage():\n",
    "    total_damage = 0\n",
    "    for index in range(project.count()):\n",
    "        damage_for_each_project = project.get_damage(index)\n",
    "        damage_for_each_project_in_dollars = convertion_to_dollars(damage_for_each_project)\n",
    "        total_damage += float(damage_for_each_project_in_dollars)\n",
    "    return total_damage\n",
    "\n",
    "total_damage()\n"
   ]
  },
  {
   "cell_type": "code",
   "execution_count": 9,
   "metadata": {
    "pycharm": {
     "is_executing": false,
     "metadata": false,
     "name": "#%%\n"
    }
   },
   "outputs": [
    {
     "data": {
      "text/plain": [
       "190"
      ]
     },
     "execution_count": 9,
     "metadata": {},
     "output_type": "execute_result"
    }
   ],
   "source": [
    "#q9\n",
    "def fastest_hurricane():\n",
    "    fastest_speed_of_hurricane = 0\n",
    "    for index in range(project.count()):\n",
    "        speed_of_hurricane = project.get_mph(index) \n",
    "        if speed_of_hurricane > fastest_speed_of_hurricane:\n",
    "            fastest_speed_of_hurricane = speed_of_hurricane\n",
    "    return fastest_speed_of_hurricane\n",
    "fastest_hurricane()\n"
   ]
  },
  {
   "cell_type": "code",
   "execution_count": 10,
   "metadata": {
    "pycharm": {
     "is_executing": false,
     "metadata": false,
     "name": "#%%\n"
    }
   },
   "outputs": [
    {
     "data": {
      "text/plain": [
       "'Allen'"
      ]
     },
     "execution_count": 10,
     "metadata": {},
     "output_type": "execute_result"
    }
   ],
   "source": [
    "#q10\n",
    "def fastest_hurricane():\n",
    "    fastest_speed_of_hurricane = 0\n",
    "    hurricane_id = 0\n",
    "    for index in range(project.count()):\n",
    "        speed_of_hurricane = project.get_mph(index) \n",
    "        if speed_of_hurricane > fastest_speed_of_hurricane:\n",
    "            fastest_speed_of_hurricane = speed_of_hurricane\n",
    "            hurricane_id = index\n",
    "    return hurricane_id\n",
    "\n",
    "project.get_name(fastest_hurricane())\n"
   ]
  },
  {
   "cell_type": "code",
   "execution_count": 11,
   "metadata": {
    "pycharm": {
     "is_executing": false,
     "metadata": false,
     "name": "#%%\n"
    }
   },
   "outputs": [
    {
     "data": {
      "text/plain": [
       "1980"
      ]
     },
     "execution_count": 11,
     "metadata": {},
     "output_type": "execute_result"
    }
   ],
   "source": [
    "#q11\n",
    "project.get_year(fastest_hurricane())\n"
   ]
  },
  {
   "cell_type": "code",
   "execution_count": 12,
   "metadata": {
    "pycharm": {
     "is_executing": false,
     "metadata": false,
     "name": "#%%\n"
    }
   },
   "outputs": [
    {
     "data": {
      "text/plain": [
       "75"
      ]
     },
     "execution_count": 12,
     "metadata": {},
     "output_type": "execute_result"
    }
   ],
   "source": [
    "#q12\n",
    "def slowest_hurricane():\n",
    "    slowest_speed_of_hurricane = project.get_mph(0)\n",
    "    for index in range(project.count()):\n",
    "        speed_of_hurricane = project.get_mph(index) \n",
    "        if speed_of_hurricane < slowest_speed_of_hurricane:\n",
    "            slowest_speed_of_hurricane = speed_of_hurricane\n",
    "    return slowest_speed_of_hurricane\n",
    "slowest_hurricane()"
   ]
  },
  {
   "cell_type": "code",
   "execution_count": 13,
   "metadata": {
    "pycharm": {
     "is_executing": false,
     "metadata": false,
     "name": "#%%\n"
    }
   },
   "outputs": [
    {
     "data": {
      "text/plain": [
       "'Maria'"
      ]
     },
     "execution_count": 13,
     "metadata": {},
     "output_type": "execute_result"
    }
   ],
   "source": [
    "#q13\n",
    "# return name of deadliest hurricane over the given date range\n",
    "def worst_in_range(year1, year2):\n",
    "    worst_idx = 0\n",
    "    damage_by_hurricane = 0\n",
    "    for i in range(project.count()):\n",
    "        if project.get_year(i) in range(year1, year2):\n",
    "            if float(project.get_deaths(i)) > float(damage_by_hurricane):\n",
    "                damage_by_hurricane = float(project.get_deaths(i))\n",
    "                worst_idx = i\n",
    "    return project.get_name(worst_idx)\n",
    "\n",
    "worst_in_range(1900,2100)"
   ]
  },
  {
   "cell_type": "code",
   "execution_count": 14,
   "metadata": {
    "pycharm": {
     "is_executing": false,
     "metadata": false,
     "name": "#%%\n"
    }
   },
   "outputs": [
    {
     "data": {
      "text/plain": [
       "'Jeanne'"
      ]
     },
     "execution_count": 14,
     "metadata": {},
     "output_type": "execute_result"
    }
   ],
   "source": [
    "\n",
    "#q14\n",
    "worst_in_range(1900,2017)"
   ]
  },
  {
   "cell_type": "code",
   "execution_count": 15,
   "metadata": {
    "pycharm": {
     "is_executing": false,
     "metadata": false,
     "name": "#%%\n"
    }
   },
   "outputs": [
    {
     "data": {
      "text/plain": [
       "'Katrina'"
      ]
     },
     "execution_count": 15,
     "metadata": {},
     "output_type": "execute_result"
    }
   ],
   "source": [
    "\n",
    "#q15\n",
    "worst_in_range(2005,2016)"
   ]
  },
  {
   "cell_type": "code",
   "execution_count": 16,
   "metadata": {
    "pycharm": {
     "is_executing": false,
     "metadata": false,
     "name": "#%%\n"
    }
   },
   "outputs": [],
   "source": [
    "def decade_deaths(decade):\n",
    "    damage_by_hurricane = 0\n",
    "    for i in range(project.count()):\n",
    "        if project.get_year(i) in range(decade, decade + 10):\n",
    "            damage_by_hurricane += float(project.get_deaths(i))\n",
    "    return damage_by_hurricane\n",
    "\n"
   ]
  },
  {
   "cell_type": "code",
   "execution_count": 17,
   "metadata": {
    "pycharm": {
     "is_executing": false,
     "metadata": false,
     "name": "#%%\n"
    }
   },
   "outputs": [
    {
     "data": {
      "text/plain": [
       "4452.0"
      ]
     },
     "execution_count": 17,
     "metadata": {},
     "output_type": "execute_result"
    }
   ],
   "source": [
    "#q16\n",
    "decade_deaths(2010)\n"
   ]
  },
  {
   "cell_type": "code",
   "execution_count": 18,
   "metadata": {
    "pycharm": {
     "is_executing": false,
     "metadata": false,
     "name": "#%%\n"
    }
   },
   "outputs": [
    {
     "data": {
      "text/plain": [
       "5580.0"
      ]
     },
     "execution_count": 18,
     "metadata": {},
     "output_type": "execute_result"
    }
   ],
   "source": [
    "#q17\n",
    "decade_deaths(2000)"
   ]
  },
  {
   "cell_type": "code",
   "execution_count": 19,
   "metadata": {
    "pycharm": {
     "is_executing": false,
     "metadata": false,
     "name": "#%%\n"
    }
   },
   "outputs": [
    {
     "data": {
      "text/plain": [
       "996.0"
      ]
     },
     "execution_count": 19,
     "metadata": {},
     "output_type": "execute_result"
    }
   ],
   "source": [
    "#q18\n",
    "decade_deaths(1990)\n"
   ]
  },
  {
   "cell_type": "code",
   "execution_count": 20,
   "metadata": {
    "pycharm": {
     "is_executing": false,
     "metadata": false,
     "name": "#%%\n"
    }
   },
   "outputs": [
    {
     "data": {
      "text/plain": [
       "483.0"
      ]
     },
     "execution_count": 20,
     "metadata": {},
     "output_type": "execute_result"
    }
   ],
   "source": [
    "#q19\n",
    "decade_deaths(1980)\n"
   ]
  },
  {
   "cell_type": "code",
   "execution_count": 21,
   "metadata": {
    "pycharm": {
     "is_executing": false,
     "metadata": false,
     "name": "#%%\n"
    }
   },
   "outputs": [
    {
     "data": {
      "text/plain": [
       "2000"
      ]
     },
     "execution_count": 21,
     "metadata": {},
     "output_type": "execute_result"
    }
   ],
   "source": [
    "#q20\n",
    "def worst_decade():\n",
    "    worst_decade = 1900\n",
    "    for i in range(1900, 2100, 10):\n",
    "        if decade_deaths(i) > decade_deaths(worst_decade):\n",
    "            worst_decade = i\n",
    "            \n",
    "    return worst_decade\n",
    "\n",
    "worst_decade()"
   ]
  },
  {
   "cell_type": "code",
   "execution_count": null,
   "metadata": {
    "pycharm": {
     "metadata": false,
     "name": "#%%\n"
    }
   },
   "outputs": [],
   "source": []
  }
 ],
 "metadata": {
  "kernelspec": {
   "display_name": "Python 3",
   "language": "python",
   "name": "python3"
  },
  "language_info": {
   "codemirror_mode": {
    "name": "ipython",
    "version": 3
   },
   "file_extension": ".py",
   "mimetype": "text/x-python",
   "name": "python",
   "nbconvert_exporter": "python",
   "pygments_lexer": "ipython3",
   "version": "3.7.3"
  }
 },
 "nbformat": 4,
 "nbformat_minor": 0
}
