{
  "cells": [
    {
      "cell_type": "code",
      "execution_count": 2,
      "metadata": {
        "collapsed": true,
        "pycharm": {
          "is_executing": false
        }
      },
      "outputs": [
        {
          "data": {
            "text/plain": "111"
          },
          "metadata": {},
          "output_type": "execute_result",
          "execution_count": 2
        }
      ],
      "source": "import project\n\n#q1\nproject.count()\n"
    },
    {
      "cell_type": "code",
      "execution_count": 3,
      "outputs": [
        {
          "data": {
            "text/plain": "\u0027Baker\u0027"
          },
          "metadata": {},
          "output_type": "execute_result",
          "execution_count": 3
        }
      ],
      "source": "#q2\nproject.get_name(0)\n",
      "metadata": {
        "pycharm": {
          "metadata": false,
          "name": "#%%\n",
          "is_executing": false
        }
      }
    },
    {
      "cell_type": "code",
      "execution_count": 4,
      "outputs": [
        {
          "data": {
            "text/plain": "1"
          },
          "metadata": {},
          "output_type": "execute_result",
          "execution_count": 4
        }
      ],
      "source": "#q3\nproject.get_deaths(110)\n",
      "metadata": {
        "pycharm": {
          "metadata": false,
          "name": "#%%\n",
          "is_executing": false
        }
      }
    },
    {
      "cell_type": "code",
      "execution_count": 5,
      "outputs": [
        {
          "data": {
            "text/plain": "1430000000.0"
          },
          "metadata": {},
          "output_type": "execute_result",
          "execution_count": 5
        }
      ],
      "source": "#q4\ndef convertion_to_dollars(amount):\n    format_amount \u003d float(amount[:-1])\n    if amount[-1] \u003d\u003d \u0027K\u0027:\n        return format_amount * 1000\n    elif amount[-1] \u003d\u003d \u0027M\u0027:\n        return format_amount * 1000000\n    elif amount[-1] \u003d\u003d \u0027B\u0027:\n        return format_amount * 1000000000\n    else:\n        return amount\n    \nconvertion_to_dollars(project.get_damage(1))\n",
      "metadata": {
        "pycharm": {
          "metadata": false,
          "name": "#%%\n",
          "is_executing": false
        }
      }
    },
    {
      "cell_type": "code",
      "execution_count": 6,
      "outputs": [
        {
          "data": {
            "text/plain": "True"
          },
          "metadata": {},
          "output_type": "execute_result",
          "execution_count": 6
        }
      ],
      "source": "#q5\ndef check_flossy_project():\n    for index in range(project.count()):\n        if project.get_name(index) \u003d\u003d \u0027Flossy\u0027: \n            return True\n    \ncheck_flossy_project()        \n",
      "metadata": {
        "pycharm": {
          "metadata": false,
          "name": "#%%\n",
          "is_executing": false
        }
      }
    },
    {
      "cell_type": "code",
      "execution_count": 7,
      "outputs": [
        {
          "data": {
            "text/plain": "2"
          },
          "metadata": {},
          "output_type": "execute_result",
          "execution_count": 7
        }
      ],
      "source": "#q6\ndef check_floyd_project():\n    no_of_floyd_projects \u003d 0\n    for index in range(project.count()):\n        if str.lower(project.get_name(index)) \u003d\u003d \u0027floyd\u0027:\n            no_of_floyd_projects +\u003d 1\n    return no_of_floyd_projects\n            \n        \ncheck_floyd_project()",
      "metadata": {
        "pycharm": {
          "metadata": false,
          "name": "#%%\n",
          "is_executing": false
        }
      }
    },
    {
      "cell_type": "code",
      "execution_count": 8,
      "outputs": [
        {
          "data": {
            "text/plain": "13129"
          },
          "metadata": {},
          "output_type": "execute_result",
          "execution_count": 8
        }
      ],
      "source": "#q7\ndef total_deaths():\n    total_no_of_deaths \u003d 0\n    for index in range(project.count()):\n        deaths_for_each_project \u003d project.get_deaths(index)\n        total_no_of_deaths +\u003d deaths_for_each_project\n    return total_no_of_deaths\n\ntotal_deaths()",
      "metadata": {
        "pycharm": {
          "metadata": false,
          "name": "#%%\n",
          "is_executing": false
        }
      }
    },
    {
      "cell_type": "code",
      "execution_count": 9,
      "outputs": [
        {
          "data": {
            "text/plain": "792890014998.0"
          },
          "metadata": {},
          "output_type": "execute_result",
          "execution_count": 9
        }
      ],
      "source": "#q8\ndef total_damage():\n    total_damage \u003d 0\n    for index in range(project.count()):\n        damage_for_each_project \u003d project.get_damage(index)\n        damage_for_each_project_in_dollars \u003d convertion_to_dollars(damage_for_each_project)\n        total_damage +\u003d float(damage_for_each_project_in_dollars)\n    return total_damage\n\ntotal_damage()\n",
      "metadata": {
        "pycharm": {
          "metadata": false,
          "name": "#%%\n",
          "is_executing": false
        }
      }
    },
    {
      "cell_type": "code",
      "execution_count": 10,
      "outputs": [
        {
          "data": {
            "text/plain": "190"
          },
          "metadata": {},
          "output_type": "execute_result",
          "execution_count": 10
        }
      ],
      "source": "#q9\ndef fastest_hurricane():\n    fastest_speed_of_hurricane \u003d 0\n    for index in range(project.count()):\n        speed_of_hurricane \u003d project.get_mph(index) \n        if speed_of_hurricane \u003e fastest_speed_of_hurricane:\n            fastest_speed_of_hurricane \u003d speed_of_hurricane\n    return fastest_speed_of_hurricane\nfastest_hurricane()\n",
      "metadata": {
        "pycharm": {
          "metadata": false,
          "name": "#%%\n",
          "is_executing": false
        }
      }
    },
    {
      "cell_type": "code",
      "execution_count": 26,
      "outputs": [
        {
          "data": {
            "text/plain": "\u0027Allen\u0027"
          },
          "metadata": {},
          "output_type": "execute_result",
          "execution_count": 26
        }
      ],
      "source": "#q10\ndef fastest_hurricane():\n    fastest_speed_of_hurricane \u003d 0\n    hurricane_id \u003d 0\n    for index in range(project.count()):\n        speed_of_hurricane \u003d project.get_mph(index) \n        if speed_of_hurricane \u003e fastest_speed_of_hurricane:\n            fastest_speed_of_hurricane \u003d speed_of_hurricane\n            hurricane_id \u003d index\n    return hurricane_id\n\nproject.get_name(fastest_hurricane())\n",
      "metadata": {
        "pycharm": {
          "metadata": false,
          "name": "#%%\n",
          "is_executing": false
        }
      }
    },
    {
      "cell_type": "code",
      "execution_count": 27,
      "outputs": [
        {
          "data": {
            "text/plain": "1980"
          },
          "metadata": {},
          "output_type": "execute_result",
          "execution_count": 27
        }
      ],
      "source": "#q11\nproject.get_year(fastest_hurricane())\n",
      "metadata": {
        "pycharm": {
          "metadata": false,
          "name": "#%%\n",
          "is_executing": false
        }
      }
    },
    {
      "cell_type": "code",
      "execution_count": 28,
      "outputs": [
        {
          "data": {
            "text/plain": "75"
          },
          "metadata": {},
          "output_type": "execute_result",
          "execution_count": 28
        }
      ],
      "source": "#q12\ndef slowest_hurricane():\n    slowest_speed_of_hurricane \u003d project.get_mph(0)\n    for index in range(project.count()):\n        speed_of_hurricane \u003d project.get_mph(index) \n        if speed_of_hurricane \u003c slowest_speed_of_hurricane:\n            slowest_speed_of_hurricane \u003d speed_of_hurricane\n    return slowest_speed_of_hurricane\nslowest_hurricane()",
      "metadata": {
        "pycharm": {
          "metadata": false,
          "name": "#%%\n",
          "is_executing": false
        }
      }
    },
    {
      "cell_type": "code",
      "execution_count": 29,
      "outputs": [
        {
          "data": {
            "text/plain": "\u0027Maria\u0027"
          },
          "metadata": {},
          "output_type": "execute_result",
          "execution_count": 29
        }
      ],
      "source": "#q13\n# return name of deadliest hurricane over the given date range\ndef worst_in_range(year1, year2):\n    worst_idx \u003d 0\n    damage_by_hurricane \u003d 0\n    for i in range(project.count()):\n        if project.get_year(i) in range(year1, year2):\n            if float(project.get_deaths(i)) \u003e float(damage_by_hurricane):\n                damage_by_hurricane \u003d float(project.get_deaths(i))\n                worst_idx \u003d i\n    return project.get_name(worst_idx)\n\nworst_in_range(1900,2100)",
      "metadata": {
        "pycharm": {
          "metadata": false,
          "name": "#%%\n",
          "is_executing": false
        }
      }
    },
    {
      "cell_type": "code",
      "execution_count": 30,
      "outputs": [
        {
          "data": {
            "text/plain": "\u0027Jeanne\u0027"
          },
          "metadata": {},
          "output_type": "execute_result",
          "execution_count": 30
        }
      ],
      "source": "\n#q14\nworst_in_range(1900,2017)",
      "metadata": {
        "pycharm": {
          "metadata": false,
          "name": "#%%\n",
          "is_executing": false
        }
      }
    },
    {
      "cell_type": "code",
      "execution_count": 31,
      "outputs": [
        {
          "data": {
            "text/plain": "\u0027Katrina\u0027"
          },
          "metadata": {},
          "output_type": "execute_result",
          "execution_count": 31
        }
      ],
      "source": "\n#q15\nworst_in_range(2005,2016)",
      "metadata": {
        "pycharm": {
          "metadata": false,
          "name": "#%%\n",
          "is_executing": false
        }
      }
    },
    {
      "cell_type": "code",
      "execution_count": 32,
      "outputs": [],
      "source": "def decade_deaths(decade):\n    damage_by_hurricane \u003d 0\n    for i in range(project.count()):\n        if project.get_year(i) in range(decade, decade + 10):\n            damage_by_hurricane +\u003d float(project.get_deaths(i))\n    return damage_by_hurricane\n\n",
      "metadata": {
        "pycharm": {
          "metadata": false,
          "name": "#%%\n",
          "is_executing": false
        }
      }
    },
    {
      "cell_type": "code",
      "execution_count": 33,
      "outputs": [
        {
          "data": {
            "text/plain": "4452.0"
          },
          "metadata": {},
          "output_type": "execute_result",
          "execution_count": 33
        }
      ],
      "source": "#q16\ndecade_deaths(2010)\n",
      "metadata": {
        "pycharm": {
          "metadata": false,
          "name": "#%%\n",
          "is_executing": false
        }
      }
    },
    {
      "cell_type": "code",
      "execution_count": 34,
      "outputs": [
        {
          "data": {
            "text/plain": "5580.0"
          },
          "metadata": {},
          "output_type": "execute_result",
          "execution_count": 34
        }
      ],
      "source": "#q17\ndecade_deaths(2000)",
      "metadata": {
        "pycharm": {
          "metadata": false,
          "name": "#%%\n",
          "is_executing": false
        }
      }
    },
    {
      "cell_type": "code",
      "execution_count": 35,
      "outputs": [
        {
          "data": {
            "text/plain": "996.0"
          },
          "metadata": {},
          "output_type": "execute_result",
          "execution_count": 35
        }
      ],
      "source": "#q18\ndecade_deaths(1990)\n",
      "metadata": {
        "pycharm": {
          "metadata": false,
          "name": "#%%\n",
          "is_executing": false
        }
      }
    },
    {
      "cell_type": "code",
      "execution_count": 36,
      "outputs": [
        {
          "data": {
            "text/plain": "483.0"
          },
          "metadata": {},
          "output_type": "execute_result",
          "execution_count": 36
        }
      ],
      "source": "#q19\ndecade_deaths(1980)\n",
      "metadata": {
        "pycharm": {
          "metadata": false,
          "name": "#%%\n",
          "is_executing": false
        }
      }
    },
    {
      "cell_type": "code",
      "execution_count": 38,
      "outputs": [
        {
          "data": {
            "text/plain": "2000"
          },
          "metadata": {},
          "output_type": "execute_result",
          "execution_count": 38
        }
      ],
      "source": "#q20\ndef worst_decade():\n    worst_decade \u003d 1900\n    for i in range(1900, 2100, 10):\n        if decade_deaths(i) \u003e decade_deaths(worst_decade):\n            worst_decade \u003d i\n            \n    return worst_decade\n\nworst_decade()",
      "metadata": {
        "pycharm": {
          "metadata": false,
          "name": "#%%\n",
          "is_executing": false
        }
      }
    },
    {
      "cell_type": "code",
      "execution_count": null,
      "outputs": [],
      "source": "",
      "metadata": {
        "pycharm": {
          "metadata": false,
          "name": "#%%\n"
        }
      }
    }
  ],
  "metadata": {
    "language_info": {
      "codemirror_mode": {
        "name": "ipython",
        "version": 2
      },
      "file_extension": ".py",
      "mimetype": "text/x-python",
      "name": "python",
      "nbconvert_exporter": "python",
      "pygments_lexer": "ipython2",
      "version": "2.7.6"
    },
    "kernelspec": {
      "name": "python3",
      "language": "python",
      "display_name": "Python 3"
    }
  },
  "nbformat": 4,
  "nbformat_minor": 0
}