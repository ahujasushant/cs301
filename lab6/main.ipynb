{
  "cells": [
    {
      "cell_type": "code",
      "execution_count": 64,
      "metadata": {
        "collapsed": true,
        "pycharm": {
          "is_executing": false
        }
      },
      "outputs": [],
      "source": "import csv\n\n# copied from https://automatetheboringstuff.com/chapter14/\ndef process_csv(filename):\n    exampleFile \u003d open(filename, encoding\u003d\"utf-8\")\n    exampleReader \u003d csv.reader(exampleFile)\n    exampleData \u003d list(exampleReader)\n    return exampleData\n\n# use process_csv to pull out the header and data rows\ncsv_rows \u003d process_csv(\"wine.csv\")\ncsv_header \u003d csv_rows[0]\ncsv_data \u003d csv_rows[1:]\n"
    },
    {
      "cell_type": "code",
      "execution_count": 65,
      "outputs": [
        {
          "data": {
            "text/plain": "[\u0027country\u0027, \u0027points\u0027, \u0027price\u0027, \u0027variety\u0027, \u0027winery\u0027, \u0027description\u0027]"
          },
          "metadata": {},
          "output_type": "execute_result",
          "execution_count": 65
        }
      ],
      "source": "csv_header",
      "metadata": {
        "pycharm": {
          "metadata": false,
          "name": "#%%\n",
          "is_executing": false
        }
      }
    },
    {
      "cell_type": "code",
      "execution_count": 66,
      "outputs": [
        {
          "data": {
            "text/plain": "1501"
          },
          "metadata": {},
          "output_type": "execute_result",
          "execution_count": 66
        }
      ],
      "source": "len(csv_data)",
      "metadata": {
        "pycharm": {
          "metadata": false,
          "name": "#%%\n",
          "is_executing": false
        }
      }
    },
    {
      "cell_type": "code",
      "execution_count": 67,
      "outputs": [
        {
          "data": {
            "text/plain": "[[\u0027US\u0027,\n  \u002796\u0027,\n  \u0027235.0\u0027,\n  \u0027Cabernet Sauvignon\u0027,\n  \u0027Heitz\u0027,\n  \u0027This tremendous 100% varietal wine hails from Oakville and was aged over three years in oak. Juicy red-cherry fruit and a compelling hint of caramel greet the palate, framed by elegant, fine tannins and a subtle minty tone in the background. Balanced and rewarding from start to finish, it has years ahead of it to develop further nuance. Enjoy 2022–2030.\u0027],\n [\u0027Spain\u0027,\n  \u002796\u0027,\n  \u0027110.0\u0027,\n  \u0027Tinta de Toro\u0027,\n  \u0027Bodega Carmen Rodríguez\u0027,\n  \u0027Ripe aromas of fig, blackberry and cassis are softened and sweetened by a slathering of oaky chocolate and vanilla. This is full, layered, intense and cushioned on the palate, with rich flavors of chocolaty black fruits and baking spices. A toasty, everlasting finish is heady but ideally balanced. Drink through 2023.\u0027],\n [\u0027US\u0027,\n  \u002796\u0027,\n  \u002790.0\u0027,\n  \u0027Sauvignon Blanc\u0027,\n  \u0027Macauley\u0027,\n  \u0027Mac Watson honors the memory of a wine once made by his mother in this tremendously delicious, balanced and complex botrytised white. Dark gold in color, it layers toasted hazelnut, pear compote and orange peel flavors, reveling in the succulence of its 122 g/L of residual sugar.\u0027],\n [\u0027US\u0027,\n  \u002796\u0027,\n  \u002765.0\u0027,\n  \u0027Pinot Noir\u0027,\n  \u0027Ponzi\u0027,\n  \"This spent 20 months in 30% new French oak, and incorporates fruit from Ponzi\u0027s Aurora, Abetina and Madrona vineyards, among others. Aromatic, dense and toasty, it deftly blends aromas and flavors of toast, cigar box, blackberry, black cherry, coffee and graphite. Tannins are polished to a fine sheen, and frame a finish loaded with dark chocolate and espresso. Drink now through 2032.\"],\n [\u0027France\u0027,\n  \u002795\u0027,\n  \u002766.0\u0027,\n  \u0027Provence red blend\u0027,\n  \u0027Domaine de la Bégude\u0027,\n  \u0027This is the top wine from La Bégude, named after the highest point in the vineyard at 1200 feet. It has structure, density and considerable acidity that is still calming down. With 18 months in wood, the wine has developing an extra richness and concentration. Produced by the Tari family, formerly of Château Giscours in Margaux, it is a wine made for aging. Drink from 2020.\u0027]]"
          },
          "metadata": {},
          "output_type": "execute_result",
          "execution_count": 67
        }
      ],
      "source": "csv_data[:5]",
      "metadata": {
        "pycharm": {
          "metadata": false,
          "name": "#%%\n",
          "is_executing": false
        }
      }
    },
    {
      "cell_type": "code",
      "execution_count": 68,
      "outputs": [
        {
          "data": {
            "text/plain": "[\u0027US\u0027,\n \u002796\u0027,\n \u0027235.0\u0027,\n \u0027Cabernet Sauvignon\u0027,\n \u0027Heitz\u0027,\n \u0027This tremendous 100% varietal wine hails from Oakville and was aged over three years in oak. Juicy red-cherry fruit and a compelling hint of caramel greet the palate, framed by elegant, fine tannins and a subtle minty tone in the background. Balanced and rewarding from start to finish, it has years ahead of it to develop further nuance. Enjoy 2022–2030.\u0027]"
          },
          "metadata": {},
          "output_type": "execute_result",
          "execution_count": 68
        }
      ],
      "source": "csv_data[0]",
      "metadata": {
        "pycharm": {
          "metadata": false,
          "name": "#%%\n",
          "is_executing": false
        }
      }
    },
    {
      "cell_type": "code",
      "execution_count": 69,
      "outputs": [
        {
          "data": {
            "text/plain": "\u0027Cabernet Sauvignon\u0027"
          },
          "metadata": {},
          "output_type": "execute_result",
          "execution_count": 69
        }
      ],
      "source": "csv_data[0][3]\n",
      "metadata": {
        "pycharm": {
          "metadata": false,
          "name": "#%%\n",
          "is_executing": false
        }
      }
    },
    {
      "cell_type": "code",
      "execution_count": 70,
      "outputs": [
        {
          "data": {
            "text/plain": "3"
          },
          "metadata": {},
          "output_type": "execute_result",
          "execution_count": 70
        }
      ],
      "source": "csv_header.index(\"variety\")",
      "metadata": {
        "pycharm": {
          "metadata": false,
          "name": "#%%\n",
          "is_executing": false
        }
      }
    },
    {
      "cell_type": "code",
      "execution_count": 71,
      "outputs": [
        {
          "data": {
            "text/plain": "\u0027Cabernet Sauvignon\u0027"
          },
          "metadata": {},
          "output_type": "execute_result",
          "execution_count": 71
        }
      ],
      "source": "csv_data[0][csv_header.index(\"variety\")]",
      "metadata": {
        "pycharm": {
          "metadata": false,
          "name": "#%%\n",
          "is_executing": false
        }
      }
    },
    {
      "cell_type": "code",
      "execution_count": 72,
      "outputs": [
        {
          "name": "stdout",
          "text": [
            "2\n"
          ],
          "output_type": "stream"
        }
      ],
      "source": "letters \u003d [\"A\", \"B\", \"C\", \"D\"]\nprint(letters.index(\"C\"))\n",
      "metadata": {
        "pycharm": {
          "metadata": false,
          "name": "#%%\n",
          "is_executing": false
        }
      }
    },
    {
      "cell_type": "code",
      "execution_count": 73,
      "outputs": [
        {
          "data": {
            "text/plain": "\u0027Tinta de Toro\u0027"
          },
          "metadata": {},
          "output_type": "execute_result",
          "execution_count": 73
        }
      ],
      "source": "csv_data[1][3]",
      "metadata": {
        "pycharm": {
          "metadata": false,
          "name": "#%%\n",
          "is_executing": false
        }
      }
    },
    {
      "cell_type": "code",
      "execution_count": 74,
      "outputs": [
        {
          "data": {
            "text/plain": "\u0027Ponzi\u0027"
          },
          "metadata": {},
          "output_type": "execute_result",
          "execution_count": 74
        }
      ],
      "source": "csv_data[3][4]",
      "metadata": {
        "pycharm": {
          "metadata": false,
          "name": "#%%\n",
          "is_executing": false
        }
      }
    },
    {
      "cell_type": "code",
      "execution_count": 75,
      "outputs": [
        {
          "data": {
            "text/plain": "\u002790.0\u0027"
          },
          "metadata": {},
          "output_type": "execute_result",
          "execution_count": 75
        }
      ],
      "source": "csv_data[2][2]",
      "metadata": {
        "pycharm": {
          "metadata": false,
          "name": "#%%\n",
          "is_executing": false
        }
      }
    },
    {
      "cell_type": "code",
      "execution_count": 76,
      "outputs": [
        {
          "data": {
            "text/plain": "\u0027US\u0027"
          },
          "metadata": {},
          "output_type": "execute_result",
          "execution_count": 76
        }
      ],
      "source": "csv_data[0][csv_header.index(\"country\")]",
      "metadata": {
        "pycharm": {
          "metadata": false,
          "name": "#%%\n",
          "is_executing": false
        }
      }
    },
    {
      "cell_type": "code",
      "execution_count": 77,
      "outputs": [
        {
          "data": {
            "text/plain": "\u0027Bodega Carmen Rodríguez\u0027"
          },
          "metadata": {},
          "output_type": "execute_result",
          "execution_count": 77
        }
      ],
      "source": "csv_data[1][csv_header.index(\"winery\")]",
      "metadata": {
        "pycharm": {
          "metadata": false,
          "name": "#%%\n",
          "is_executing": false
        }
      }
    },
    {
      "cell_type": "code",
      "execution_count": 78,
      "outputs": [
        {
          "data": {
            "text/plain": "\u0027Sauvignon Blanc\u0027"
          },
          "metadata": {},
          "output_type": "execute_result",
          "execution_count": 78
        }
      ],
      "source": "csv_data[2][csv_header.index(\"variety\")]",
      "metadata": {
        "pycharm": {
          "metadata": false,
          "name": "#%%\n",
          "is_executing": false
        }
      }
    },
    {
      "cell_type": "code",
      "execution_count": 79,
      "outputs": [
        {
          "data": {
            "text/plain": "\u0027US\u0027"
          },
          "metadata": {},
          "output_type": "execute_result",
          "execution_count": 79
        }
      ],
      "source": "def cell(row_idx, col_name):\n    col_idx \u003d csv_header.index(col_name)\n    val \u003d csv_data[row_idx][col_idx]\n    if val \u003d\u003d \"\":\n        return None\n    # optional: convert types based on column name?\n    if col_name \u003d\u003d \u0027points\u0027:\n        return int(val)\n    elif col_name \u003d\u003d \u0027price\u0027:\n        return float(val)\n    else:\n        return val\n\ncell(0, \"country\")",
      "metadata": {
        "pycharm": {
          "metadata": false,
          "name": "#%%\n",
          "is_executing": false
        }
      }
    },
    {
      "cell_type": "code",
      "execution_count": 80,
      "outputs": [
        {
          "data": {
            "text/plain": "96"
          },
          "metadata": {},
          "output_type": "execute_result",
          "execution_count": 80
        }
      ],
      "source": "cell(1, \"points\")",
      "metadata": {
        "pycharm": {
          "metadata": false,
          "name": "#%%\n",
          "is_executing": false
        }
      }
    },
    {
      "cell_type": "code",
      "execution_count": 81,
      "outputs": [
        {
          "data": {
            "text/plain": "90.0"
          },
          "metadata": {},
          "output_type": "execute_result",
          "execution_count": 81
        }
      ],
      "source": "cell(2, \"price\")",
      "metadata": {
        "pycharm": {
          "metadata": false,
          "name": "#%%\n",
          "is_executing": false
        }
      }
    },
    {
      "cell_type": "code",
      "execution_count": 82,
      "outputs": [
        {
          "data": {
            "text/plain": "\u0027Pinot Noir\u0027"
          },
          "metadata": {},
          "output_type": "execute_result",
          "execution_count": 82
        }
      ],
      "source": "cell(3, \"variety\")",
      "metadata": {
        "pycharm": {
          "metadata": false,
          "name": "#%%\n",
          "is_executing": false
        }
      }
    },
    {
      "cell_type": "code",
      "execution_count": 83,
      "outputs": [
        {
          "name": "stdout",
          "text": [
            "original list: [\u0027A\u0027, \u0027B\u0027, \u0027C\u0027]\nreturned value: None\n"
          ],
          "output_type": "stream"
        }
      ],
      "source": "letters \u003d [\"B\", \"C\", \"A\"]\n\nresult \u003d letters.sort()\n\nprint(\"original list:\", letters)\nprint(\"returned value:\", result)",
      "metadata": {
        "pycharm": {
          "metadata": false,
          "name": "#%%\n",
          "is_executing": false
        }
      }
    },
    {
      "cell_type": "code",
      "execution_count": 84,
      "outputs": [
        {
          "name": "stdout",
          "text": [
            "original list: [\u0027B\u0027, \u0027C\u0027, \u0027A\u0027]\nreturned value: [\u0027A\u0027, \u0027B\u0027, \u0027C\u0027]\n"
          ],
          "output_type": "stream"
        }
      ],
      "source": "letters \u003d [\"B\", \"C\", \"A\"]\n\nresult \u003d sorted(letters)\n\nprint(\"original list:\", letters)\nprint(\"returned value:\", result)",
      "metadata": {
        "pycharm": {
          "metadata": false,
          "name": "#%%\n",
          "is_executing": false
        }
      }
    },
    {
      "cell_type": "code",
      "execution_count": 85,
      "outputs": [
        {
          "name": "stdout",
          "text": [
            "original str: BCA\nreturned value: [\u0027A\u0027, \u0027B\u0027, \u0027C\u0027]\n"
          ],
          "output_type": "stream"
        }
      ],
      "source": "s \u003d \"BCA\"\n\nresult \u003d sorted(s)\n\nprint(\"original str:\", s)\nprint(\"returned value:\", result)",
      "metadata": {
        "pycharm": {
          "metadata": false,
          "name": "#%%\n",
          "is_executing": false
        }
      }
    },
    {
      "cell_type": "code",
      "execution_count": 86,
      "outputs": [
        {
          "name": "stdout",
          "text": [
            "original list: [\u0027C\u0027, \u0027A\u0027]\nreturned value: B\n"
          ],
          "output_type": "stream"
        }
      ],
      "source": "letters \u003d [\"B\", \"C\", \"A\"]\n\nresult \u003d letters.pop(0)\n\nprint(\"original list:\", letters)\nprint(\"returned value:\", result)",
      "metadata": {
        "pycharm": {
          "metadata": false,
          "name": "#%%\n",
          "is_executing": false
        }
      }
    },
    {
      "cell_type": "code",
      "execution_count": 88,
      "outputs": [
        {
          "name": "stdout",
          "text": [
            "[\u0027A\u0027, \u0027B\u0027, \u0027C\u0027]\n{\u0027C\u0027, \u0027B\u0027, \u0027A\u0027}\n"
          ],
          "output_type": "stream"
        }
      ],
      "source": "example_list \u003d [\"A\", \"B\", \"C\"]\nprint(example_list)\nexample_set \u003d {\"A\", \"B\", \"C\"}\nprint(example_set)",
      "metadata": {
        "pycharm": {
          "metadata": false,
          "name": "#%%\n",
          "is_executing": false
        }
      }
    },
    {
      "cell_type": "code",
      "execution_count": 89,
      "outputs": [
        {
          "data": {
            "text/plain": "True"
          },
          "metadata": {},
          "output_type": "execute_result",
          "execution_count": 89
        }
      ],
      "source": "\"A\" in example_list\n\n",
      "metadata": {
        "pycharm": {
          "metadata": false,
          "name": "#%%\n",
          "is_executing": false
        }
      }
    },
    {
      "cell_type": "code",
      "execution_count": 90,
      "outputs": [
        {
          "data": {
            "text/plain": "True"
          },
          "metadata": {},
          "output_type": "execute_result",
          "execution_count": 90
        }
      ],
      "source": "\"A\" in example_set\n\n",
      "metadata": {
        "pycharm": {
          "metadata": false,
          "name": "#%%\n",
          "is_executing": false
        }
      }
    },
    {
      "cell_type": "code",
      "execution_count": 91,
      "outputs": [
        {
          "data": {
            "text/plain": "\u0027A\u0027"
          },
          "metadata": {},
          "output_type": "execute_result",
          "execution_count": 91
        }
      ],
      "source": "example_list[0]",
      "metadata": {
        "pycharm": {
          "metadata": false,
          "name": "#%%\n",
          "is_executing": false
        }
      }
    },
    {
      "cell_type": "code",
      "execution_count": 92,
      "outputs": [
        {
          "traceback": [
            "\u001b[0;31m---------------------------------------------------------------------------\u001b[0m",
            "\u001b[0;31mTypeError\u001b[0m                                 Traceback (most recent call last)",
            "\u001b[0;32m\u003cipython-input-92-ef8c89818ed8\u003e\u001b[0m in \u001b[0;36m\u003cmodule\u003e\u001b[0;34m\u001b[0m\n\u001b[0;32m----\u003e 1\u001b[0;31m \u001b[0mexample_set\u001b[0m\u001b[0;34m[\u001b[0m\u001b[0;36m0\u001b[0m\u001b[0;34m]\u001b[0m\u001b[0;34m\u001b[0m\u001b[0;34m\u001b[0m\u001b[0m\n\u001b[0m",
            "\u001b[0;31mTypeError\u001b[0m: \u0027set\u0027 object is not subscriptable"
          ],
          "ename": "TypeError",
          "evalue": "\u0027set\u0027 object is not subscriptable",
          "output_type": "error"
        }
      ],
      "source": "example_set[0]",
      "metadata": {
        "pycharm": {
          "metadata": false,
          "name": "#%%\n",
          "is_executing": false
        }
      }
    },
    {
      "cell_type": "code",
      "execution_count": 93,
      "outputs": [
        {
          "data": {
            "text/plain": "False"
          },
          "metadata": {},
          "output_type": "execute_result",
          "execution_count": 93
        }
      ],
      "source": "[\"A\", \"B\", \"C\"] \u003d\u003d [\"C\", \"B\", \"A\"]\n",
      "metadata": {
        "pycharm": {
          "metadata": false,
          "name": "#%%\n",
          "is_executing": false
        }
      }
    },
    {
      "cell_type": "code",
      "execution_count": 94,
      "outputs": [
        {
          "data": {
            "text/plain": "True"
          },
          "metadata": {},
          "output_type": "execute_result",
          "execution_count": 94
        }
      ],
      "source": "{\"A\", \"B\", \"C\"} \u003d\u003d {\"C\", \"B\", \"A\"}\n",
      "metadata": {
        "pycharm": {
          "metadata": false,
          "name": "#%%\n",
          "is_executing": false
        }
      }
    },
    {
      "cell_type": "code",
      "execution_count": 95,
      "outputs": [
        {
          "name": "stdout",
          "text": [
            "{1, 2, 3}\n"
          ],
          "output_type": "stream"
        }
      ],
      "source": "items \u003d [3,2,1]\nitems_set \u003d set(items)\nprint(items_set)",
      "metadata": {
        "pycharm": {
          "metadata": false,
          "name": "#%%\n",
          "is_executing": false
        }
      }
    },
    {
      "cell_type": "code",
      "execution_count": 96,
      "outputs": [
        {
          "name": "stdout",
          "text": [
            "[1, 2, 3]\n"
          ],
          "output_type": "stream"
        }
      ],
      "source": "items \u003d {3,2,1}\nitems_list \u003d list(items)\nprint(items_list)",
      "metadata": {
        "pycharm": {
          "metadata": false,
          "name": "#%%\n",
          "is_executing": false
        }
      }
    },
    {
      "cell_type": "code",
      "execution_count": 97,
      "outputs": [
        {
          "name": "stdout",
          "text": [
            "3.0\n"
          ],
          "output_type": "stream"
        }
      ],
      "source": "x \u003d 3.8\ny \u003d float(int(x))\nprint(y)",
      "metadata": {
        "pycharm": {
          "metadata": false,
          "name": "#%%\n",
          "is_executing": false
        }
      }
    },
    {
      "cell_type": "code",
      "execution_count": 98,
      "outputs": [
        {
          "name": "stdout",
          "text": [
            "[\u0027C\u0027, \u0027B\u0027, \u0027A\u0027]\n"
          ],
          "output_type": "stream"
        }
      ],
      "source": "list_1 \u003d [\"A\", \"A\", \"B\", \"B\", \"C\", \"B\", \"A\"] # try playing with different values here\nlist_2 \u003d list(set(list_1))\nprint(list_2)",
      "metadata": {
        "pycharm": {
          "metadata": false,
          "name": "#%%\n",
          "is_executing": false
        }
      }
    },
    {
      "cell_type": "code",
      "execution_count": null,
      "outputs": [],
      "source": "\n",
      "metadata": {
        "pycharm": {
          "metadata": false,
          "name": "#%%\n"
        }
      }
    }
  ],
  "metadata": {
    "language_info": {
      "codemirror_mode": {
        "name": "ipython",
        "version": 2
      },
      "file_extension": ".py",
      "mimetype": "text/x-python",
      "name": "python",
      "nbconvert_exporter": "python",
      "pygments_lexer": "ipython2",
      "version": "2.7.6"
    },
    "kernelspec": {
      "name": "python3",
      "language": "python",
      "display_name": "Python 3"
    }
  },
  "nbformat": 4,
  "nbformat_minor": 0
}