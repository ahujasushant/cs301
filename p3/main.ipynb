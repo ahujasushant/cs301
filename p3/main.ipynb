{
  "cells": [
    {
      "cell_type": "code",
      "execution_count": 28,
      "outputs": [],
      "source": "import project\n",
      "metadata": {
        "pycharm": {
          "metadata": false,
          "name": "#%%\n",
          "is_executing": false
        }
      }
    },
    {
      "cell_type": "code",
      "execution_count": 30,
      "outputs": [],
      "source": "project.init(\"madison.csv\")\nstreets_id \u003d project.get_id(\"streets\")\npolice_id \u003d project.get_id(\"police\")\nfire_id \u003d project.get_id(\"fire\")\nparks_id \u003d project.get_id(\"parks\")\nlibraries_id \u003d project.get_id(\"library\")\n",
      "metadata": {
        "pycharm": {
          "metadata": false,
          "name": "#%%\n",
          "is_executing": false
        }
      }
    },
    {
      "cell_type": "code",
      "execution_count": 33,
      "outputs": [
        {
          "data": {
            "text/plain": "33"
          },
          "metadata": {},
          "output_type": "execute_result",
          "execution_count": 33
        }
      ],
      "source": "#q1\nproject.get_id(\"library\")\n",
      "metadata": {
        "pycharm": {
          "metadata": false,
          "name": "#%%\n",
          "is_executing": false
        }
      }
    },
    {
      "cell_type": "code",
      "execution_count": 34,
      "outputs": [
        {
          "data": {
            "text/plain": "19.76071"
          },
          "metadata": {},
          "output_type": "execute_result",
          "execution_count": 34
        }
      ],
      "source": "#q2\nproject.get_spending(44, 2018)\n",
      "metadata": {
        "pycharm": {
          "metadata": false,
          "name": "#%%\n",
          "is_executing": false
        }
      }
    },
    {
      "cell_type": "code",
      "execution_count": 74,
      "outputs": [
        {
          "data": {
            "text/plain": "26.655754419999994"
          },
          "metadata": {},
          "output_type": "execute_result",
          "execution_count": 74
        }
      ],
      "source": "#q3\nproject.get_spending(streets_id, 2017)\n",
      "metadata": {
        "pycharm": {
          "metadata": false,
          "name": "#%%\n",
          "is_executing": false
        }
      }
    },
    {
      "cell_type": "code",
      "execution_count": 75,
      "outputs": [],
      "source": "project.get_id(\"streets\")\ndef year_max(year):\n   police_spending \u003d project.get_spending(police_id, year)\n   fire_spending \u003d project.get_spending(fire_id, year)\n   library_spending \u003d project.get_spending(libraries_id, year)\n   parks_spending \u003d project.get_spending(parks_id, year)\n   streets_spending \u003d project.get_spending(streets_id, year)\n\n   # use builtin max function to get the largest of the five values\n   return max(police_spending, fire_spending, library_spending, parks_spending, streets_spending)\n",
      "metadata": {
        "pycharm": {
          "metadata": false,
          "name": "#%%\n",
          "is_executing": false
        }
      }
    },
    {
      "cell_type": "code",
      "execution_count": 76,
      "outputs": [
        {
          "data": {
            "text/plain": "68.06346877"
          },
          "metadata": {},
          "output_type": "execute_result",
          "execution_count": 76
        }
      ],
      "source": "#q4\nyear_max(2015)\n",
      "metadata": {
        "pycharm": {
          "metadata": false,
          "name": "#%%\n",
          "is_executing": false
        }
      }
    },
    {
      "cell_type": "code",
      "execution_count": 78,
      "outputs": [
        {
          "data": {
            "text/plain": "77.87553504"
          },
          "metadata": {},
          "output_type": "execute_result",
          "execution_count": 78
        }
      ],
      "source": "#q5\nyear_max(2018)\n",
      "metadata": {
        "pycharm": {
          "metadata": false,
          "name": "#%%\n",
          "is_executing": false
        }
      }
    },
    {
      "cell_type": "code",
      "execution_count": 77,
      "outputs": [],
      "source": "def agency_min(agency):\n    agency_id \u003d project.get_id(agency)\n    y15 \u003d project.get_spending(agency_id, 2015)\n    y16 \u003d project.get_spending(agency_id, 2016)\n    y17 \u003d project.get_spending(agency_id, 2017)\n    y18 \u003d project.get_spending(agency_id, 2018)\n    \n    return min(y15, y16, y17, y18)\n",
      "metadata": {
        "pycharm": {
          "metadata": false,
          "name": "#%%\n",
          "is_executing": false
        }
      }
    },
    {
      "cell_type": "code",
      "execution_count": 79,
      "outputs": [
        {
          "data": {
            "text/plain": "68.06346877"
          },
          "metadata": {},
          "output_type": "execute_result",
          "execution_count": 79
        }
      ],
      "source": "#q6\nagency_min(\"police\")\n",
      "metadata": {
        "pycharm": {
          "metadata": false,
          "name": "#%%\n",
          "is_executing": false
        }
      }
    },
    {
      "cell_type": "code",
      "execution_count": 80,
      "outputs": [
        {
          "data": {
            "text/plain": "49.73757877"
          },
          "metadata": {},
          "output_type": "execute_result",
          "execution_count": 80
        }
      ],
      "source": "#q7\nagency_min(\"fire\")\n",
      "metadata": {
        "pycharm": {
          "metadata": false,
          "name": "#%%\n",
          "is_executing": false
        }
      }
    },
    {
      "cell_type": "code",
      "execution_count": 81,
      "outputs": [
        {
          "data": {
            "text/plain": "16.96543425"
          },
          "metadata": {},
          "output_type": "execute_result",
          "execution_count": 81
        }
      ],
      "source": "#q8\nagency_min(\"library\")\n",
      "metadata": {
        "pycharm": {
          "metadata": false,
          "name": "#%%\n",
          "is_executing": false
        }
      }
    },
    {
      "cell_type": "code",
      "execution_count": 54,
      "outputs": [],
      "source": "def agency_avg(agency):\n    agency_id \u003d project.get_id(agency)\n    y15 \u003d project.get_spending(agency_id, 2015)\n    y16 \u003d project.get_spending(agency_id, 2016)\n    y17 \u003d project.get_spending(agency_id, 2017)\n    y18 \u003d project.get_spending(agency_id, 2018)\n    \n    return ((y15 + y16 + y17 + y18)/4)\n",
      "metadata": {
        "pycharm": {
          "metadata": false,
          "name": "#%%\n",
          "is_executing": false
        }
      }
    },
    {
      "cell_type": "code",
      "execution_count": 82,
      "outputs": [
        {
          "data": {
            "text/plain": "27.013047475"
          },
          "metadata": {},
          "output_type": "execute_result",
          "execution_count": 82
        }
      ],
      "source": "#q9\n\nagency_avg(\"streets\")",
      "metadata": {
        "pycharm": {
          "metadata": false,
          "name": "#%%\n",
          "is_executing": false
        }
      }
    },
    {
      "cell_type": "code",
      "execution_count": 103,
      "outputs": [
        {
          "data": {
            "text/plain": "19.152052834999996"
          },
          "metadata": {},
          "output_type": "execute_result",
          "execution_count": 103
        }
      ],
      "source": "#q10\nagency_avg(\"parks\")\n",
      "metadata": {
        "pycharm": {
          "metadata": false,
          "name": "#%%\n",
          "is_executing": false
        }
      }
    },
    {
      "cell_type": "code",
      "execution_count": 107,
      "outputs": [
        {
          "data": {
            "text/plain": "7.224961934351909"
          },
          "metadata": {},
          "output_type": "execute_result",
          "execution_count": 107
        }
      ],
      "source": "#q11\nincreased_spending \u003d (project.get_spending(police_id, 2018) - agency_avg(\"police\"))\naverage_spending \u003d agency_avg(\"police\")\n(increased_spending/average_spending) * 100 \n\n",
      "metadata": {
        "pycharm": {
          "metadata": false,
          "name": "#%%\n",
          "is_executing": false
        }
      }
    },
    {
      "cell_type": "code",
      "execution_count": 131,
      "outputs": [],
      "source": "def change_per_year(agency, start_year\u003d2015, end_year\u003d2018):\n    agency_id \u003d project.get_id(agency)\n    spending_one \u003d project.get_spending(agency_id, start_year)\n    spending_two \u003d project.get_spending(agency_id, end_year)\n    # pass # TODO: replace this line with your code\n    return (spending_one - spending_two)/(start_year-end_year)\n\n\n    ",
      "metadata": {
        "pycharm": {
          "metadata": false,
          "name": "#%%\n",
          "is_executing": false
        }
      }
    },
    {
      "cell_type": "code",
      "execution_count": 132,
      "outputs": [
        {
          "data": {
            "text/plain": "3.2706887566666674"
          },
          "metadata": {},
          "output_type": "execute_result",
          "execution_count": 132
        }
      ],
      "source": "#q12\nchange_per_year(\"police\")\n",
      "metadata": {
        "pycharm": {
          "metadata": false,
          "name": "#%%\n",
          "is_executing": false
        }
      }
    },
    {
      "cell_type": "code",
      "execution_count": 133,
      "outputs": [
        {
          "data": {
            "text/plain": "4.627587380000023"
          },
          "metadata": {},
          "output_type": "execute_result",
          "execution_count": 133
        }
      ],
      "source": "#q13\nchange_per_year(\"police\", 2017)\n",
      "metadata": {
        "pycharm": {
          "metadata": false,
          "name": "#%%\n",
          "is_executing": false
        }
      }
    },
    {
      "cell_type": "code",
      "execution_count": 134,
      "outputs": [
        {
          "data": {
            "text/plain": "-0.2148440299999983"
          },
          "metadata": {},
          "output_type": "execute_result",
          "execution_count": 134
        }
      ],
      "source": "#q14\nchange_per_year(\"streets\", 2016)\n",
      "metadata": {
        "pycharm": {
          "metadata": false,
          "name": "#%%\n",
          "is_executing": false
        }
      }
    },
    {
      "cell_type": "code",
      "execution_count": 139,
      "outputs": [],
      "source": "def extrapolate(agency, year1, year2, year3):\n    average_increase \u003d change_per_year(agency, year1, year2)\n    predicted_spending \u003d (average_increase * (year3 - year2)) + project.get_spending(project.get_id(agency), year2)\n    return predicted_spending\n",
      "metadata": {
        "pycharm": {
          "metadata": false,
          "name": "#%%\n",
          "is_executing": false
        }
      }
    },
    {
      "cell_type": "code",
      "execution_count": 140,
      "outputs": [
        {
          "data": {
            "text/plain": "20.80494298333333"
          },
          "metadata": {},
          "output_type": "execute_result",
          "execution_count": 140
        }
      ],
      "source": "#q15\nextrapolate(\"library\", 2015, 2018, 2019)",
      "metadata": {
        "pycharm": {
          "metadata": false,
          "name": "#%%\n",
          "is_executing": false
        }
      }
    },
    {
      "cell_type": "code",
      "execution_count": 141,
      "outputs": [
        {
          "data": {
            "text/plain": "98.55499483333321"
          },
          "metadata": {},
          "output_type": "execute_result",
          "execution_count": 141
        }
      ],
      "source": "#q16\nextrapolate(\"library\", 2015, 2018, 2100)\n",
      "metadata": {
        "pycharm": {
          "metadata": false,
          "name": "#%%\n",
          "is_executing": false
        }
      }
    },
    {
      "cell_type": "code",
      "execution_count": 142,
      "outputs": [
        {
          "data": {
            "text/plain": "77.95994753999969"
          },
          "metadata": {},
          "output_type": "execute_result",
          "execution_count": 142
        }
      ],
      "source": "#q17\nextrapolate(\"library\", 2017, 2018, 2100)\n",
      "metadata": {
        "pycharm": {
          "metadata": false,
          "name": "#%%\n",
          "is_executing": false
        }
      }
    },
    {
      "cell_type": "code",
      "execution_count": 149,
      "outputs": [],
      "source": "def extrapolate_error(agency, year1, year2, year3):\n    expected_spending \u003d extrapolate(agency, year1, year2, year3)\n    actual_spending \u003d project.get_spending(project.get_id(agency), year3)\n    return expected_spending - actual_spending\n    ",
      "metadata": {
        "pycharm": {
          "metadata": false,
          "name": "#%%\n",
          "is_executing": false
        }
      }
    },
    {
      "cell_type": "code",
      "execution_count": 150,
      "outputs": [
        {
          "data": {
            "text/plain": "-2.0353479350000327"
          },
          "metadata": {},
          "output_type": "execute_result",
          "execution_count": 150
        }
      ],
      "source": "#q18\nextrapolate_error(\"police\", 2015, 2017, 2018)\n",
      "metadata": {
        "pycharm": {
          "metadata": false,
          "name": "#%%\n",
          "is_executing": false
        }
      }
    },
    {
      "cell_type": "code",
      "execution_count": 151,
      "outputs": [
        {
          "data": {
            "text/plain": "6.149171779999982"
          },
          "metadata": {},
          "output_type": "execute_result",
          "execution_count": 151
        }
      ],
      "source": "#q19\nextrapolate_error(\"streets\", 2015, 2016, 2018)\n",
      "metadata": {
        "pycharm": {
          "metadata": false,
          "name": "#%%\n",
          "is_executing": false
        }
      }
    },
    {
      "cell_type": "code",
      "execution_count": 152,
      "outputs": [
        {
          "data": {
            "text/plain": "-0.49974208000001497"
          },
          "metadata": {},
          "output_type": "execute_result",
          "execution_count": 152
        }
      ],
      "source": "#q20\nextrapolate_error(\"streets\", 2015, 2017, 2018)\n",
      "metadata": {
        "pycharm": {
          "metadata": false,
          "name": "#%%\n",
          "is_executing": false
        }
      }
    },
    {
      "cell_type": "code",
      "execution_count": null,
      "outputs": [],
      "source": "\n",
      "metadata": {
        "pycharm": {
          "metadata": false,
          "name": "#%%\n"
        }
      }
    }
  ],
  "metadata": {
    "language_info": {
      "codemirror_mode": {
        "name": "ipython",
        "version": 2
      },
      "file_extension": ".py",
      "mimetype": "text/x-python",
      "name": "python",
      "nbconvert_exporter": "python",
      "pygments_lexer": "ipython2",
      "version": "2.7.6"
    },
    "kernelspec": {
      "name": "python3",
      "language": "python",
      "display_name": "Python 3"
    },
    "stem_cell": {
      "cell_type": "raw",
      "source": "",
      "metadata": {
        "pycharm": {
          "metadata": false
        }
      }
    }
  },
  "nbformat": 4,
  "nbformat_minor": 0
}