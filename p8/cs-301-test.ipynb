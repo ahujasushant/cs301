{
 "cells": [
  {
   "cell_type": "code",
   "execution_count": 1,
   "metadata": {},
   "outputs": [],
   "source": [
    "import csv\n",
    "def get_mapping(file_path):\n",
    "    data_dict = {}\n",
    "    file = open(file_path)\n",
    "    fileReader = csv.reader(file)\n",
    "    fileData = dict(fileReader)\n",
    "    return fileData"
   ]
  },
  {
   "cell_type": "code",
   "execution_count": 2,
   "metadata": {},
   "outputs": [
    {
     "name": "stdout",
     "output_type": "stream",
     "text": [
      "{'nm0000131': 'John Cusack', 'nm0000154': 'Mel Gibson', 'nm0000163': 'Dustin Hoffman', 'nm0000418': 'Danny Glover', 'nm0000432': 'Gene Hackman', 'nm0000997': 'Gary Busey', 'nm0001149': 'Richard Donner', 'nm0001219': 'Gary Fleder', 'nm0752751': 'Mitchell Ryan', 'tt0313542': 'Runaway Jury', 'tt0093409': 'Lethal Weapon'}\n"
     ]
    }
   ],
   "source": [
    "#q1\n",
    "mapping = get_mapping(\"small_mapping.csv\")\n",
    "print(mapping)"
   ]
  },
  {
   "cell_type": "code",
   "execution_count": 3,
   "metadata": {},
   "outputs": [
    {
     "data": {
      "text/plain": [
       "'Runaway Jury'"
      ]
     },
     "execution_count": 3,
     "metadata": {},
     "output_type": "execute_result"
    }
   ],
   "source": [
    "#q2\n",
    "mapping['tt0313542']\n"
   ]
  },
  {
   "cell_type": "code",
   "execution_count": 4,
   "metadata": {},
   "outputs": [
    {
     "data": {
      "text/plain": [
       "['Runaway Jury', 'Lethal Weapon']"
      ]
     },
     "execution_count": 4,
     "metadata": {},
     "output_type": "execute_result"
    }
   ],
   "source": [
    "#q3\n",
    "def get_list_for_name_starting_with_tt():\n",
    "    data_list = list()\n",
    "    for key in mapping:\n",
    "        if key[:2] == 'tt':\n",
    "            data_list.append(mapping[key])\n",
    "    return data_list\n",
    "get_list_for_name_starting_with_tt()"
   ]
  },
  {
   "cell_type": "code",
   "execution_count": 5,
   "metadata": {},
   "outputs": [
    {
     "data": {
      "text/plain": [
       "['nm0000997', 'nm0001219']"
      ]
     },
     "execution_count": 5,
     "metadata": {},
     "output_type": "execute_result"
    }
   ],
   "source": [
    "#q4\n",
    "def get_list_of_id_for_name_gary():\n",
    "    data_list = list()\n",
    "    for key in mapping:\n",
    "        if mapping[key].split()[0] == 'Gary':\n",
    "            data_list.append(key)\n",
    "    return data_list\n",
    "get_list_of_id_for_name_gary()"
   ]
  },
  {
   "cell_type": "code",
   "execution_count": 6,
   "metadata": {},
   "outputs": [
    {
     "name": "stdout",
     "output_type": "stream",
     "text": [
      "[{'title': 'tt0313542', 'year': '2003', 'rating': '7.1', 'directors': 'nm0001219', 'actors': 'nm0000131,nm0000432,nm0000163', 'genres': 'Crime,Drama,Thriller'}, {'title': 'tt0093409', 'year': '1987', 'rating': '7.6', 'directors': 'nm0001149', 'actors': 'nm0000154,nm0000418,nm0000997,nm0752751', 'genres': 'Action,Crime,Thriller'}]\n"
     ]
    }
   ],
   "source": [
    "def get_raw_movies(file_path):\n",
    "    data_list = list()\n",
    "    file = open(file_path)\n",
    "    fileReader = csv.reader(file)\n",
    "    fileData = list(fileReader)\n",
    "    headers = fileData[0]\n",
    "    file_data = fileData[1:]\n",
    "\n",
    "    for row in file_data:\n",
    "        data_list.append(dict(zip(headers, row)))\n",
    "    return data_list\n",
    "#q5\n",
    "movies_mapping = get_raw_movies(\"small_movies.csv\")\n",
    "print(movies_mapping)"
   ]
  },
  {
   "cell_type": "code",
   "execution_count": 7,
   "metadata": {},
   "outputs": [
    {
     "data": {
      "text/plain": [
       "3"
      ]
     },
     "execution_count": 7,
     "metadata": {},
     "output_type": "execute_result"
    }
   ],
   "source": [
    "#q6\n",
    "len(movies_mapping[0]['genres'].split(\",\"))\n"
   ]
  },
  {
   "cell_type": "code",
   "execution_count": 8,
   "metadata": {},
   "outputs": [
    {
     "data": {
      "text/plain": [
       "'nm0752751'"
      ]
     },
     "execution_count": 8,
     "metadata": {},
     "output_type": "execute_result"
    }
   ],
   "source": [
    "#q7\n",
    "movies_mapping[1]['actors'].split(\",\")[-1]"
   ]
  },
  {
   "cell_type": "code",
   "execution_count": 9,
   "metadata": {},
   "outputs": [],
   "source": [
    "def get_movies(movies_path, mapping_path):\n",
    "    raw_movies = get_raw_movies(movies_path)\n",
    "    mapped_actors = get_mapping(mapping_path)\n",
    "    for items in raw_movies:\n",
    "        actor_ids = items['actors'].split(\",\")\n",
    "        actor_names = list()\n",
    "        for id in actor_ids:\n",
    "            if id in mapped_actors.keys():\n",
    "                actor_names.append(mapped_actors[id])\n",
    "        items['actors'] = actor_names\n",
    "    return raw_movies\n",
    "small = get_movies(\"small_movies.csv\", \"small_mapping.csv\")"
   ]
  },
  {
   "cell_type": "code",
   "execution_count": 10,
   "metadata": {},
   "outputs": [
    {
     "data": {
      "text/plain": [
       "'tt0313542'"
      ]
     },
     "execution_count": 10,
     "metadata": {},
     "output_type": "execute_result"
    }
   ],
   "source": [
    "#q8\n",
    "small[0][\"title\"]"
   ]
  },
  {
   "cell_type": "code",
   "execution_count": 11,
   "metadata": {},
   "outputs": [
    {
     "data": {
      "text/plain": [
       "'nm0001149'"
      ]
     },
     "execution_count": 11,
     "metadata": {},
     "output_type": "execute_result"
    }
   ],
   "source": [
    "#q9\n",
    "small[1][\"directors\"]"
   ]
  },
  {
   "cell_type": "code",
   "execution_count": 12,
   "metadata": {},
   "outputs": [
    {
     "data": {
      "text/plain": [
       "['Mel Gibson', 'Danny Glover', 'Gary Busey', 'Mitchell Ryan']"
      ]
     },
     "execution_count": 12,
     "metadata": {},
     "output_type": "execute_result"
    }
   ],
   "source": [
    "#q10\n",
    "small[-1][\"actors\"]"
   ]
  },
  {
   "cell_type": "code",
   "execution_count": 13,
   "metadata": {},
   "outputs": [
    {
     "name": "stdout",
     "output_type": "stream",
     "text": [
      "[{'title': 'tt0313542', 'year': '2003', 'rating': '7.1', 'directors': 'nm0001219', 'actors': ['John Cusack', 'Gene Hackman', 'Dustin Hoffman'], 'genres': 'Crime,Drama,Thriller'}, {'title': 'tt0093409', 'year': '1987', 'rating': '7.6', 'directors': 'nm0001149', 'actors': ['Mel Gibson', 'Danny Glover', 'Gary Busey', 'Mitchell Ryan'], 'genres': 'Action,Crime,Thriller'}]\n"
     ]
    }
   ],
   "source": [
    "#q11\n",
    "print(small)"
   ]
  },
  {
   "cell_type": "code",
   "execution_count": 14,
   "metadata": {},
   "outputs": [],
   "source": [
    "movies = get_movies(\"movies.csv\", \"mapping.csv\")"
   ]
  },
  {
   "cell_type": "code",
   "execution_count": 15,
   "metadata": {},
   "outputs": [
    {
     "name": "stdout",
     "output_type": "stream",
     "text": [
      "[{'title': 'tt1931435', 'year': '2013', 'rating': '5.6', 'directors': 'nm0951698', 'actors': ['Robert De Niro'], 'genres': 'Comedy,Drama,Romance'}, {'title': 'tt0242252', 'year': '2001', 'rating': '6.1', 'directors': 'nm0796124', 'actors': ['Simon Baker', 'Jonathan Pryce', 'Adrien Brody'], 'genres': 'Drama,History,Romance'}, {'title': 'tt0066811', 'year': '1971', 'rating': '6.0', 'directors': 'nm0125111', 'actors': ['Kurt Russell', 'Joe Flynn', 'Harry Morgan', 'Wally Cox'], 'genres': 'Comedy,Family'}]\n"
     ]
    }
   ],
   "source": [
    "#q12\n",
    "print(movies[:3])"
   ]
  },
  {
   "cell_type": "code",
   "execution_count": 16,
   "metadata": {},
   "outputs": [
    {
     "name": "stdout",
     "output_type": "stream",
     "text": [
      "[{'title': 'tt3734096', 'year': '2012', 'rating': '7.2', 'directors': 'nm4222154', 'actors': ['Angelo Dundee', 'George Foreman', 'Freddie Roach'], 'genres': 'Sport'}, {'title': 'tt0044760', 'year': '1952', 'rating': '6.8', 'directors': 'nm0861703', 'actors': ['Robert Taylor', 'George Sanders'], 'genres': 'Adventure,Drama,History'}, {'title': 'tt0041428', 'year': '1949', 'rating': '6.6', 'directors': 'nm0637790', 'actors': ['Alan Ladd', 'Macdonald Carey'], 'genres': 'Drama'}]\n"
     ]
    }
   ],
   "source": [
    "#q13\n",
    "print(movies[-3:])"
   ]
  },
  {
   "cell_type": "code",
   "execution_count": 17,
   "metadata": {},
   "outputs": [],
   "source": [
    "# you are not allowed to change this function\n",
    "def filter_movies_by_year(movies, year):\n",
    "    i = 0\n",
    "    while i < len(movies):\n",
    "        if movies[i][\"year\"] != year:\n",
    "            movies.pop(i)\n",
    "        else:\n",
    "            i += 1\n",
    "    return movies"
   ]
  },
  {
   "cell_type": "code",
   "execution_count": null,
   "metadata": {},
   "outputs": [],
   "source": []
  }
 ],
 "metadata": {
  "kernelspec": {
   "display_name": "Python 3",
   "language": "python",
   "name": "python3"
  },
  "language_info": {
   "codemirror_mode": {
    "name": "ipython",
    "version": 3
   },
   "file_extension": ".py",
   "mimetype": "text/x-python",
   "name": "python",
   "nbconvert_exporter": "python",
   "pygments_lexer": "ipython3",
   "version": "3.7.3"
  }
 },
 "nbformat": 4,
 "nbformat_minor": 2
}
